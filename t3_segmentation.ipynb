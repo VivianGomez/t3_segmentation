{
 "cells": [
  {
   "cell_type": "markdown",
   "metadata": {
    "colab_type": "text",
    "id": "yTy0LcQQjQfz"
   },
   "source": [
    "# **Taller No. 3: Segmentación por agrupamiento (*clustering*)**\n",
    "\n",
    "## **Autores**: \n",
    "- Vivian Natalia Gómez Cubillos \n",
    "- Kelly Katherine Penaranda Rivera\n",
    "\n",
    "# **Contenido**\n",
    "3. [**Introducción**](#id1)\n",
    "3. [**Método**](#id2)\n",
    "4. [**Código**](#id3)\n",
    "3. [**Resultados**](#id4)\n",
    "4. [**Conclusión y discusión**](#id5)\n"
   ]
  },
  {
   "cell_type": "markdown",
   "metadata": {
    "colab_type": "text",
    "id": "XCXifLhgjtmE"
   },
   "source": [
    "## **1. Introducción**<a name=\"id1\"></a>\n",
    "## **2. Método**<a name=\"id2\"></a>\n",
    "## **3. Código**<a name=\"id3\"></a>\n",
    "## **4. Resultados**<a name=\"id4\"></a>\n",
    "## **5. Conclusión y discusión**<a name=\"id5\"></a>"
   ]
  },
  {
   "cell_type": "code",
   "execution_count": null,
   "metadata": {},
   "outputs": [],
   "source": [
    "import utils.color_segmentation as seg"
   ]
  },
  {
   "cell_type": "code",
   "execution_count": null,
   "metadata": {},
   "outputs": [],
   "source": [
    "url = # Inserte URL de la imagen deseada\n",
    "img = seg.download_image(url)"
   ]
  },
  {
   "cell_type": "code",
   "execution_count": null,
   "metadata": {},
   "outputs": [],
   "source": [
    "segmented_imgs = seg.segmentation_demo(img)"
   ]
  },
  {
   "cell_type": "code",
   "execution_count": null,
   "metadata": {},
   "outputs": [],
   "source": [
    "segmented_imgs_grayscale = seg.segmentation_demo(img, gray=True)"
   ]
  }
 ],
 "metadata": {
  "colab": {
   "collapsed_sections": [],
   "name": "Taller 3.ipynb",
   "provenance": []
  },
  "kernelspec": {
   "display_name": "venvt",
   "language": "python",
   "name": "venvt"
  },
  "language_info": {
   "codemirror_mode": {
    "name": "ipython",
    "version": 3
   },
   "file_extension": ".py",
   "mimetype": "text/x-python",
   "name": "python",
   "nbconvert_exporter": "python",
   "pygments_lexer": "ipython3",
   "version": "3.8.5"
  }
 },
 "nbformat": 4,
 "nbformat_minor": 1
}
